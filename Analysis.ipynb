{
 "cells": [
  {
   "cell_type": "code",
   "execution_count": null,
   "metadata": {},
   "outputs": [],
   "source": [
    "import pandas as pd\n",
    "import numpy as np\n",
    "import os\n",
    "import glob\n",
    "import matplotlib.pyplot as plt\n",
    "from geopy.distance import distance\n",
    "import swifter"
   ]
  },
  {
   "cell_type": "code",
   "execution_count": null,
   "metadata": {},
   "outputs": [],
   "source": [
    "import sqlalchemy\n",
    "import pymysql"
   ]
  },
  {
   "cell_type": "code",
   "execution_count": null,
   "metadata": {},
   "outputs": [],
   "source": []
  },
  {
   "cell_type": "code",
   "execution_count": null,
   "metadata": {},
   "outputs": [],
   "source": [
    "class CloudSQLDAO:\n",
    "    def __init__(self, auth):\n",
    "\n",
    "        if(auth):\n",
    "            db_user = 'root'\n",
    "            db_pass = 'thanks123'\n",
    "            db_name = 'drivesafe_app_accidents'\n",
    "            db = sqlalchemy.create_engine('mysql+pymysql://{}:{}@127.0.0.1/{}'.format(db_user,db_pass,db_name))\n",
    "            self.conn = db.connect()\n",
    "        else:\n",
    "            pass\n",
    "            '''\n",
    "            with open(\"config/cfg.yml\", 'r') as ymlfile:\n",
    "                cfg = yaml.load(ymlfile)\n",
    "                self.db_user=cfg['db_user']\n",
    "                self.db_pass=cfg['db_pass']\n",
    "                self.db_name = cfg['db_name']\n",
    "                self.cloud_sql_instance_name = cfg['cloud_sql_instance_name']\n",
    "\n",
    "            self.db = sqlalchemy.create_engine(\n",
    "                # Equivalent URL:\n",
    "                # mysql+pymysql://<db_user>:<db_pass>@/<db_name>?unix_socket=/cloudsql/<cloud_sql_instance_name>\n",
    "                sqlalchemy.engine.url.URL(\n",
    "                    drivername=\"mysql+pymysql\",\n",
    "                    username=self.db_user,\n",
    "                    password=self.db_pass,\n",
    "                    database=self.db_name,\n",
    "                    query={\"unix_socket\": \"/cloudsql/{}\".format(self.cloud_sql_instance_name)},\n",
    "                )\n",
    "            )\n",
    "            '''\n",
    "    def get_accidents_by_zipcode(self, zipcode):\n",
    "        sql = \"select ID,Start_Lat,Start_Lng from accidents where Zipcode={}\".format(zipcode)\n",
    "        return pd.read_sql(sql, self.conn)\n",
    "    "
   ]
  },
  {
   "cell_type": "code",
   "execution_count": null,
   "metadata": {},
   "outputs": [],
   "source": [
    "dao = CloudSQLDAO(auth=True)"
   ]
  },
  {
   "cell_type": "code",
   "execution_count": null,
   "metadata": {},
   "outputs": [],
   "source": [
    "dao.get_accidents_by_zipcode(94401)"
   ]
  },
  {
   "cell_type": "code",
   "execution_count": null,
   "metadata": {},
   "outputs": [],
   "source": [
    "o_df = pd.read_csv('US_Accidents_Dec19.csv')"
   ]
  },
  {
   "cell_type": "code",
   "execution_count": 3,
   "metadata": {},
   "outputs": [
    {
     "name": "stdout",
     "output_type": "stream",
     "text": [
      "{\"id\": 1, \"warning_score\": 2, \"warning_level\": 1}\n"
     ]
    }
   ],
   "source": [
    "import json\n",
    "output_map = {}\n",
    "output_map['id'] = 1\n",
    "output_map['warning_score'] = 2\n",
    "output_map['warning_level'] = 1 #can be between 1-3\n",
    "print(json.dumps(output_map))"
   ]
  },
  {
   "cell_type": "code",
   "execution_count": null,
   "metadata": {},
   "outputs": [],
   "source": [
    "df.head()"
   ]
  },
  {
   "cell_type": "code",
   "execution_count": null,
   "metadata": {},
   "outputs": [],
   "source": [
    "df.Traffic_Signal.value_counts()"
   ]
  },
  {
   "cell_type": "code",
   "execution_count": null,
   "metadata": {},
   "outputs": [],
   "source": [
    "distance"
   ]
  },
  {
   "cell_type": "code",
   "execution_count": null,
   "metadata": {},
   "outputs": [],
   "source": [
    "tempe = df[df.Zipcode == '85281']"
   ]
  },
  {
   "cell_type": "code",
   "execution_count": null,
   "metadata": {},
   "outputs": [],
   "source": [
    "tempe.head()"
   ]
  },
  {
   "cell_type": "code",
   "execution_count": null,
   "metadata": {},
   "outputs": [],
   "source": [
    "dfla = df[df.City == 'Los Angeles']"
   ]
  },
  {
   "cell_type": "code",
   "execution_count": null,
   "metadata": {},
   "outputs": [],
   "source": [
    "dfla.shape"
   ]
  },
  {
   "cell_type": "code",
   "execution_count": null,
   "metadata": {},
   "outputs": [],
   "source": [
    "dfla.Zipcode"
   ]
  },
  {
   "cell_type": "code",
   "execution_count": null,
   "metadata": {},
   "outputs": [],
   "source": [
    "def filter_coords(start, dest, latlong, thresh):\n",
    "    '''\n",
    "    Filter set of GPS locations from a given region based on (start, dest)  using triangle method.\n",
    "    \n",
    "    args:\n",
    "        start: GPS start lat-long (tuple).\n",
    "        dest: GPS end lat-long (tuple).\n",
    "        latlong: Zip of all lat-long tuples for a given region.\n",
    "        thresh: Max thresh for sum of distances for GPS loc to be filtered.\n",
    "        \n",
    "    returns:\n",
    "        filtered_search_list: filtered list of GPS locations.\n",
    "        mask: Indicator for each entry in a given region; 1-> In search lise, 0-> otherwise.\n",
    "    '''\n",
    "    filtered_search_list = []\n",
    "    mask = []\n",
    "    for coord in latlong:\n",
    "        if (distance(start, coord).miles + distance(dest, coord).miles) <= thresh:\n",
    "            filtered_search_list.append(coord)\n",
    "            mask.append(1)\n",
    "        else:\n",
    "            mask.append(0)\n",
    "    return filtered_search_list, mask"
   ]
  },
  {
   "cell_type": "code",
   "execution_count": null,
   "metadata": {},
   "outputs": [],
   "source": [
    "def check_accident_zone(current_loc, filtered_search_list, thresh=0.5):\n",
    "    '''\n",
    "    Check if a given location is in accident prone zone\n",
    "    \n",
    "    args:\n",
    "        curent_loc: Query / current GPS location of vehicle.\n",
    "        filtered_Search_list: Optimized search list of GPS locations based on (start, dest), calc by triangle method.\n",
    "        thresh: Minimum distance from danger zone for warning to be considered.\n",
    "    \n",
    "    returns:\n",
    "        True -> In danger zone.\n",
    "        False -> In safe zone.\n",
    "    '''\n",
    "    ctr = 0\n",
    "    danger_signal = 0 ## To be modified later according to what we determine is a danger zone (number of accidents in a given region)\n",
    "    for loc in filtered_search_list:\n",
    "        if distance(current_loc, loc).miles <= thresh:\n",
    "            ctr += 1\n",
    "    if ctr > danger_signal:\n",
    "        return True\n",
    "    return False"
   ]
  },
  {
   "cell_type": "code",
   "execution_count": null,
   "metadata": {},
   "outputs": [],
   "source": [
    "lats = dfla.Start_Lat.astype(float).values\n",
    "longs = dfla.Start_Lng.astype(float).values"
   ]
  },
  {
   "cell_type": "code",
   "execution_count": null,
   "metadata": {},
   "outputs": [],
   "source": [
    "src = (34.016993, -118.496299)\n",
    "dest = (33.436832, -111.957603)\n",
    "distance(src, dest).miles"
   ]
  },
  {
   "cell_type": "code",
   "execution_count": null,
   "metadata": {},
   "outputs": [],
   "source": [
    "%%time\n",
    "accident_latlong = zip(lats, longs)\n",
    "start = (34.009842, -118.495851) ## Santa Monica Pier\n",
    "dest = (33.944360, -118.408647) ## LAX Airport\n",
    "dist_thresh = distance(start, dest).miles + 5.0 ## Change according to experiments\n",
    "coords, mask = filter_coords(start, dest, latlong=accident_latlong, thresh=dist_thresh)"
   ]
  },
  {
   "cell_type": "code",
   "execution_count": null,
   "metadata": {},
   "outputs": [],
   "source": [
    "def test_search(row, start, dest, thresh):\n",
    "    coord = (float(row['Start_Lat']),float(row['Start_Lng']))\n",
    "    if (distance(start, coord).miles + distance(dest, coord).miles) <= thresh:\n",
    "        return 1\n",
    "    return 0\n",
    "res = dfla.apply(test_search,args=(start,dest,dist_thresh),axis=1)"
   ]
  },
  {
   "cell_type": "code",
   "execution_count": null,
   "metadata": {},
   "outputs": [],
   "source": [
    "%%time\n"
   ]
  },
  {
   "cell_type": "code",
   "execution_count": null,
   "metadata": {},
   "outputs": [],
   "source": [
    "res.sum()"
   ]
  },
  {
   "cell_type": "code",
   "execution_count": null,
   "metadata": {},
   "outputs": [],
   "source": [
    "%%time\n",
    "len(coords)"
   ]
  },
  {
   "cell_type": "code",
   "execution_count": null,
   "metadata": {},
   "outputs": [],
   "source": [
    "len(lats)"
   ]
  },
  {
   "cell_type": "code",
   "execution_count": null,
   "metadata": {},
   "outputs": [],
   "source": [
    "dest"
   ]
  },
  {
   "cell_type": "code",
   "execution_count": null,
   "metadata": {},
   "outputs": [],
   "source": [
    "distance(start, dest).miles"
   ]
  },
  {
   "cell_type": "code",
   "execution_count": null,
   "metadata": {},
   "outputs": [],
   "source": [
    "df.shape"
   ]
  },
  {
   "cell_type": "code",
   "execution_count": null,
   "metadata": {},
   "outputs": [],
   "source": [
    "df.City.unique().shape[0]"
   ]
  },
  {
   "cell_type": "code",
   "execution_count": null,
   "metadata": {},
   "outputs": [],
   "source": [
    "df.Street"
   ]
  },
  {
   "cell_type": "code",
   "execution_count": null,
   "metadata": {},
   "outputs": [],
   "source": [
    "df = pd.read_csv('CA_Accidents_Filtered.csv')\n",
    "df = df.drop(['Unnamed: 0'],axis=1)\n",
    "df = df.dropna(subset=['Zipcode'] )\n",
    "df['Zipcode'] = df['Zipcode'].apply(lambda x: str(x).split('-')[0])"
   ]
  },
  {
   "cell_type": "code",
   "execution_count": null,
   "metadata": {},
   "outputs": [],
   "source": [
    "df.to_csv('CA_cleaned.csv',header=False,index=False)"
   ]
  },
  {
   "cell_type": "code",
   "execution_count": null,
   "metadata": {},
   "outputs": [],
   "source": [
    "o_df.Zipcode.isnull().sum()"
   ]
  },
  {
   "cell_type": "code",
   "execution_count": null,
   "metadata": {},
   "outputs": [],
   "source": [
    "df['Zipcode'].unique().shape"
   ]
  },
  {
   "cell_type": "code",
   "execution_count": null,
   "metadata": {},
   "outputs": [],
   "source": [
    "a = 1\n",
    "b =1"
   ]
  },
  {
   "cell_type": "code",
   "execution_count": null,
   "metadata": {},
   "outputs": [],
   "source": [
    "zipcode_accidents = df[df['Zipcode']=='95237']"
   ]
  },
  {
   "cell_type": "code",
   "execution_count": null,
   "metadata": {},
   "outputs": [],
   "source": [
    "def infer_warning_level(curr_lat,curr_lng,zipcode_accidents):\n",
    "    def get_points_within_radius(row,curr_lat,curr_lng,thresh=0.2):\n",
    "        curr_loc =(curr_lat,curr_lng)\n",
    "        row_loc = (row['Start_Lat'],row['Start_Lng'])\n",
    "        dist = distance(row_loc,curr_loc).miles\n",
    "        if(dist<=thresh):\n",
    "            return True\n",
    "        else:\n",
    "            return False\n",
    "    result = zipcode_accidents.apply(get_points_within_radius,args=(curr_lat,curr_lng),axis=1)\n",
    "    return result.sum()"
   ]
  },
  {
   "cell_type": "code",
   "execution_count": null,
   "metadata": {},
   "outputs": [],
   "source": [
    "curr_lat,curr_lng = (38.161133, -121.152646)\n",
    "infer_warning_level(curr_lat,curr_lng,zipcode_accidents)"
   ]
  },
  {
   "cell_type": "code",
   "execution_count": null,
   "metadata": {},
   "outputs": [],
   "source": [
    "from geopy.geocoders import Nominatim\n",
    "from geopy.distance import distance\n",
    "locator = Nominatim(user_agent=\"myGeocoder\")\n",
    "zipcode_object = locator.reverse((curr_lat,curr_lng))\n",
    "curr_zipcode = zipcode_object.raw['address']['postcode']"
   ]
  },
  {
   "cell_type": "code",
   "execution_count": null,
   "metadata": {},
   "outputs": [],
   "source": [
    "[2:16 AM, 5/5/2020] Venkatesh Asu: 33.465523734896585 -111.95820843641205\n",
    "[2:16 AM, 5/5/2020] Venkatesh Asu: 33.465521696022314 -111.95874680390439\n",
    "[2:16 AM, 5/5/2020] Venkatesh Asu: 33.4655247726229 -111.95928520900634\n",
    "[2:16 AM, 5/5/2020] Venkatesh Asu: 33.46552784922348 -111.95982361410829\n",
    "[2:16 AM, 5/5/2020] Venkatesh Asu: 33.465533709054185 -111.96036196203275"
   ]
  },
  {
   "cell_type": "code",
   "execution_count": null,
   "metadata": {},
   "outputs": [],
   "source": [
    "distance(('33.465523734896585','-111.95820843641205'),('33.465521696022314', '-111.95874680390439')).miles"
   ]
  },
  {
   "cell_type": "code",
   "execution_count": null,
   "metadata": {},
   "outputs": [],
   "source": [
    "distance((33.465523734896585','-111.95820843641205'),('33.4655247726229', '-111.95928520900634')).miles"
   ]
  },
  {
   "cell_type": "code",
   "execution_count": null,
   "metadata": {},
   "outputs": [],
   "source": [
    "500m/sec"
   ]
  },
  {
   "cell_type": "code",
   "execution_count": null,
   "metadata": {},
   "outputs": [],
   "source": [
    "zipcode_object = locator.reverse((curr_lat,curr_lng))\n",
    "curr_zipcode = zipcode_object.raw['address']['postcode']"
   ]
  }
 ],
 "metadata": {
  "kernelspec": {
   "display_name": "Python 3",
   "language": "python",
   "name": "python3"
  },
  "language_info": {
   "codemirror_mode": {
    "name": "ipython",
    "version": 3
   },
   "file_extension": ".py",
   "mimetype": "text/x-python",
   "name": "python",
   "nbconvert_exporter": "python",
   "pygments_lexer": "ipython3",
   "version": "3.7.3"
  }
 },
 "nbformat": 4,
 "nbformat_minor": 4
}
